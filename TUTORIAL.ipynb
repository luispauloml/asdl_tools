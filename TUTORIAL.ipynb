{
 "cells": [
  {
   "cell_type": "markdown",
   "id": "5cc000d8-7cce-42ce-b5af-9bd274cf5fd9",
   "metadata": {
    "collapsed": false
   },
   "source": [
    "# Introduction\n",
    "To use National Instrument (NI) devices with a computer, one would usually need to use the NI-DAQmx C API provided by National Instruments either through LabVIEW, or writing programs directly in the C programming language.\n",
    "Fortunately, NI devices are very common and people have written libraries for interfacing them with several languages.\n",
    "The most notable case is MATLAB'S Data Acquisition Toolbox, which works not only for NI but other companies as well.\n",
    "\n",
    "If one wants to use Python, it is possible to use the official [nidaqmx](https://github.com/ni/nidaqmx-python) package, which wraps the C API using highly object-oriented approach in Python.\n",
    "Since nidaqmx simply wraps the C API, it is very powerful library and allows us to do anything that can be done from inside LabVIEW.\n",
    "However, for this same reason, if one wants to write a simple read task, for example, a lot of boiler plate (repetitive and trivial code) is needed, and having to write the same configuration code over, and over again, can turn into a source of all sorts of bugs.\n",
    "\n",
    "The modules in this repository were written to allows us at ASDL to use NI devices without much boiler plate code.\n",
    "It is very different from MATLAB's Data Acquisition Toolbox, because it allows us to fallback to the bare NI-DAQmx functionality anytime we want, be it either when there is a bug in this library, or when a functionality is not facilitated."
   ]
  },
  {
   "cell_type": "markdown",
   "id": "a0d47445-fe3b-4701-9453-89755c43a4e6",
   "metadata": {
    "collapsed": false
   },
   "source": [
    "# Requirements and goals\n",
    "To follow this tutorial, you should have a device with at least one output and one input analog channels connected to your computer.\n",
    "You will also need to have this repository, plus Matplotlib installed.\n",
    "\n",
    "This tutorial will teach you how to set up a simple read and write task in a few steps:\n",
    "1. set up the device\n",
    "2. read the data\n",
    "3. save the data to the disk\n",
    "\n",
    "To accomplish this, we will use the following:\n",
    "- `MeasuredData`: a class to create objects that can hold, save and load data.\n",
    "- `SingleDevice`: an class to manage tasks that use a single NI device.\n",
    "- methods straight from NI's nidaqmx library.\n",
    "\n",
    "You should remember you can always use `help` to find out more about what each function does."
   ]
  },
  {
   "cell_type": "markdown",
   "id": "c1712a1f-b818-4940-86a3-b817f49e51b0",
   "metadata": {
    "collapsed": false
   },
   "source": [
    "# Initial setup\n",
    "\n",
    "First, we import what we will need to used.\n",
    "Then, we create an object to hold the data and setup out output signal and other parameters.\n",
    "The object will be called `data`, and we can add attributes to it storing any value that we might want to save later one.\n",
    "Here we are interested in saving the sampling rate, the vector with the discretized time, and the output signal."
   ]
  },
  {
   "cell_type": "code",
   "execution_count": 1,
   "id": "cc3f9ab0-0920-4af8-b941-611f04ee7a69",
   "metadata": {
    "collapsed": false
   },
   "outputs": [],
   "source": [
    "from asdl import MeasuredData\n",
    "from asdl.ni import SingleDevice, available_devices\n",
    "import nidaqmx as ni\n",
    "import numpy as np\n",
    "import matplotlib.pyplot as plt"
   ]
  },
  {
   "cell_type": "code",
   "execution_count": 2,
   "id": "463baeb7-c83d-4845-a996-fad849d49135",
   "metadata": {
    "collapsed": false
   },
   "outputs": [],
   "source": [
    "data = MeasuredData()\n",
    "data.sampl_rate = 20e3                                   # Sampling rate (samples/s)\n",
    "data.time_vect = np.arange(0, 1, 1/data.sampl_rate)      # Time vector\n",
    "data.data_out = np.sin(2 * np.pi * 20 * data.time_vect)  # Output signal (sine @ 20 Hz)"
   ]
  },
  {
   "cell_type": "markdown",
   "id": "9397723e-b8d9-4c04-ab21-58b85a0386cc",
   "metadata": {
    "collapsed": false
   },
   "source": [
    "# Tasks\n",
    "\n",
    "Every time we are managing NI devices, we call it a \"task\".\n",
    "This name comes from National Instrument itself, is used in the official NI-DAQmx C API.\n",
    "The same device can be used in different tasks, as long as they do not use the same channels simultaneously.\n",
    "However, each task can only read or only write data, it cannot do both.\n",
    "Therefore, we need to create two tasks for one single device, which is facilitated by the `SingleDevice` class defined in this library.\n",
    "Before moving on, you can check which devices are connected to your computer using `available_devices` function:"
   ]
  },
  {
   "cell_type": "code",
   "execution_count": 3,
   "id": "50c375e2-f67d-4f28-8c5e-03541196d135",
   "metadata": {
    "collapsed": false
   },
   "outputs": [
    {
     "data": {
      "text/plain": [
       "[Device(name=Dev6)]"
      ]
     },
     "execution_count": 3,
     "metadata": {},
     "output_type": "execute_result"
    }
   ],
   "source": [
    "available_devices()"
   ]
  },
  {
   "cell_type": "markdown",
   "id": "5dfb4e1c-5117-4cb7-988e-6467981d90f4",
   "metadata": {
    "collapsed": false
   },
   "source": [
    "Now we create the tasks using `SingleDevice`.\n",
    "The `task` object will have two attributes: `read_task` and `write_task`, which are responsible for reading and writing signals, respectively.\n",
    "The tasks should be configured by setting up input and output channels, and by configuring the sampling clock and timing.\n",
    "\n",
    "The methods `add_ai_voltage_chan`, `add_ao_voltage_chan` and `cfg_samp_clk_timing` simply forward the parameters to the original methods of the same name contained in nidaqmx.\n",
    "There are many other methods available, but these are the ones facilitated by library.\n",
    "If you want to know all possible configuration methods and functions, you can use either `help(task.read_task)` or simply list them with `dir(task.read_task)`. You can do the same for `task.write_task`, but the `help` and `dir` outputs will be the same because they are the same type of objects.\n",
    "\n",
    "When configuring the sampling clock, notice the parameter `sample_mode=ni.constantes.FINITE`.\n",
    "We are using the \"official\" value defined in nidaqmx library to tell this task that we want to measure only the defined number of points, which is `samps_per_chan` and is set to be equal to the size of the output signal.\n",
    "After acquiring or write the given number of data points, the task will stop.\n",
    "If the value for `sample_mode` were `CONTINUOUS`, task you continue (like an infinite loop) until we interrupted it."
   ]
  },
  {
   "cell_type": "code",
   "execution_count": 4,
   "id": "d3a53686-99a1-4c9e-a8a8-d403003c53f6",
   "metadata": {
    "collapsed": false
   },
   "outputs": [],
   "source": [
    "task = SingleDevice('Dev6')\n",
    "task.add_ai_voltage_chan(\n",
    "    'Dev6/ai0',\n",
    "    min_val=-3,\n",
    "    max_val=+3,\n",
    ")\n",
    "task.add_ao_voltage_chan(\n",
    "    'Dev6/ao0',\n",
    "    min_val=-3,\n",
    "    max_val=+3,\n",
    ")\n",
    "task.cfg_samp_clk_timing(\n",
    "    rate=data.sampl_rate,\n",
    "    sample_mode=ni.constants.AcquisitionType.FINITE,\n",
    "    samps_per_chan=data.data_out.size,\n",
    ")"
   ]
  },
  {
   "cell_type": "markdown",
   "id": "12ccf443-4752-47ce-8f12-15511f727a47",
   "metadata": {
    "collapsed": false
   },
   "source": [
    "The read and write tasks are not synchronized by default, because breaking synchronization is harder is harder than synchronizing.\n",
    "Before synchronizing, it is necessary to set up the output signal.\n",
    "If the output signal is not buffered by the device, an error will be throwing the NI-DAQmx.\n",
    "Notice the `auto_start=False`: if not set to `False`, the output signal is written immediately.\n",
    "This option, together with the following `synchronize` method, makes the writing wait for the internal trigger signal from the reading."
   ]
  },
  {
   "cell_type": "code",
   "execution_count": 5,
   "id": "885d2c65-45c3-4aee-9c95-9275de7d7474",
   "metadata": {
    "collapsed": false
   },
   "outputs": [],
   "source": [
    "task.write_task.write(data.data_out, auto_start=False)\n",
    "task.synchronize()"
   ]
  },
  {
   "cell_type": "markdown",
   "id": "be2ea5ba-0522-473e-9d8b-915d0cea0232",
   "metadata": {
    "collapsed": false
   },
   "source": [
    "Now we read a signal and store it to the `data` object.\n",
    "The `read` method is also from nidaqmx library, and it returns a list of float values.\n",
    "You can use `help(task.read)` to learn more."
   ]
  },
  {
   "cell_type": "code",
   "execution_count": 6,
   "id": "45f7f02c-4045-4d9f-8b6e-c9f866d63657",
   "metadata": {
    "collapsed": false
   },
   "outputs": [],
   "source": [
    "data.data_in = task.read(\n",
    "    number_of_samples_per_channel=data.data_out.size\n",
    ")"
   ]
  },
  {
   "cell_type": "markdown",
   "id": "2830fce1-c5bf-48a0-bb3a-6ac9e35d9d06",
   "metadata": {
    "collapsed": false
   },
   "source": [
    "# Storing and visualizing data\n",
    "\n",
    "We have finished acquiring data it for later usage.\n",
    "For that we use `save`, a method defined for `MeasuredData` objects, to create the file \"simple_read_and_write.pkl\".\n",
    "The extension \".pkl\" means \"pickle\", and it refers to the binary format commonly used in Python.\n",
    "You can read more about \"pickle\" in the official documentation: [https://docs.python.org/3/library/pickle.html](https://docs.python.org/3/library/pickle.html).\n",
    "\n",
    "When you save a `MeasuredData` object, all its attributes are also saved.\n",
    "In our case, `sampl_rate`, `data_out`, `data_in` and `time_vect` will all be stored and can be loaded later.\n",
    "To load the data again, you can to the following in a new Python session or file:\n",
    "```python\n",
    "from asdl import MeasuredData\n",
    "data = MeasuredData.load('simple_read_and_write.pkl')\n",
    "```\n",
    "\n",
    "The configuration of a task, on the other hand, cannot be saved."
   ]
  },
  {
   "cell_type": "code",
   "execution_count": 7,
   "id": "257842ca-4215-4e2c-a7e1-5c78c8b34321",
   "metadata": {
    "collapsed": false
   },
   "outputs": [],
   "source": [
    "data.save('simple_read_and_write.pkl')"
   ]
  },
  {
   "cell_type": "markdown",
   "id": "6a3e6971-68c2-463c-bf80-9cfbd5fbd866",
   "metadata": {
    "collapsed": false
   },
   "source": [
    "We can visualize the data too."
   ]
  },
  {
   "cell_type": "code",
   "execution_count": 8,
   "id": "52b933e9-a933-432b-84e6-0f2264b7b3bc",
   "metadata": {
    "collapsed": false
   },
   "outputs": [
    {
     "data": {
      "image/png": "[encoded data removed]",
      "text/plain": [
       "<Figure size 432x288 with 1 Axes>"
      ]
     },
     "metadata": {
      "needs_background": "light"
     },
     "output_type": "display_data"
    }
   ],
   "source": [
    "plt.plot(data.time_vect, data.data_out, label='Output signal')\n",
    "plt.plot(data.time_vect, data.data_in, label='Input signal')\n",
    "plt.legend()\n",
    "plt.grid()"
   ]
  },
  {
   "cell_type": "markdown",
   "id": "abfabc26-fe3a-410b-abb3-c40735848ae3",
   "metadata": {
    "collapsed": false
   },
   "source": [
    "# Closing the task\n",
    "\n",
    "After finishing reading or writing data, it is important to close the task.\n",
    "Closing the task your computer and NI-DAQmx drivers that you will not use those resources (i.e. the device, its internal memory, etc.) anymore, and the can be used by other tasks.\n",
    "Here, `close` is another function from nidaqmx library, and it is the same as doing\n",
    "```python\n",
    "task.read_task.close()\n",
    "task.write_task.close()\n",
    "```"
   ]
  },
  {
   "cell_type": "code",
   "execution_count": 9,
   "id": "b2039a5d-c466-41a1-907a-836d95511cbb",
   "metadata": {
    "collapsed": false
   },
   "outputs": [],
   "source": [
    "task.close()"
   ]
  },
  {
   "cell_type": "markdown",
   "id": "81d33f55-a88c-41d3-b77e-91152c0895ce",
   "metadata": {
    "collapsed": false
   },
   "source": [
    "## Using `with` context manager\n",
    "\n",
    "Another way of dealing with `SingleDevice` is using Python's `with` statement.\n",
    "If you use `with` you will not have to worry about closing the task after you are done.\n",
    "For example, the following exceprt\n",
    "```python\n",
    "with SingleDevice('Dev6') as task:\n",
    "    task.add_ai_voltage_chan(...)\n",
    "    data = task.read(...)\n",
    "<other code that do not need to read or write data goes here>\n",
    "```\n",
    "is the same as\n",
    "```python\n",
    "task.add_ai_voltage_chan(...)\n",
    "data = task.read(...)\n",
    "task.close()\n",
    "<other code that do not need to read or write data goes here>\n",
    "```\n",
    "It is recommended that you use `with` in case you only need to use the device once.\n",
    "If you need to read or write data in different parts of you code, it simpler to just not use `with`.\n",
    "If that is the your case, do not forget to close your tasks.\n",
    "If you forget to do so, you will see warnings and errors when you re-run your script, try to re-configure the same task, or when closing your Python session."
   ]
  },
  {
   "cell_type": "markdown",
   "id": "141aafb2-9abf-474c-bfc1-2b7e995051cc",
   "metadata": {
    "collapsed": false
   },
   "source": [
    "# Closing remarks\n",
    "\n",
    "In this short tutorial, you learned how to run a simple read and write task, and how to save and load data.\n",
    "If you want to understand how these things work under the hood, you are encouraged to read the source code for the `ni` module in this package, specifically [./asdl/ni/__inti__.py](./asdl/ni/__init__.py).\n",
    "You will notice that `SingleDevice` tries to be a very simple class that simply dispatches parameters to the underlying nidaqmx library, while trying to catch common errors thrown by NI-DAQmx drivers.\n",
    "\n",
    "If you want to contribute and implement some additional functionality, just do it yourself and send a pull request to this repository when you are done."
   ]
  }
 ],
 "metadata": {
  "kernelspec": {
   "argv": [
    "python",
    "-m",
    "ipykernel_launcher",
    "-f",
    "{connection_file}"
   ],
   "display_name": "Python 3 (ipykernel)",
   "env": null,
   "interrupt_mode": "signal",
   "language": "python",
   "metadata": {
    "debugger": true
   },
   "name": "python3"
  },
  "language_info": {
   "codemirror_mode": {
    "name": "ipython",
    "version": 3
   },
   "file_extension": ".py",
   "mimetype": "text/x-python",
   "name": "python",
   "nbconvert_exporter": "python",
   "pygments_lexer": "ipython3",
   "version": "3.7.7"
  },
  "name": "TUTORIAL.ipynb"
 },
 "nbformat": 4,
 "nbformat_minor": 5
}
